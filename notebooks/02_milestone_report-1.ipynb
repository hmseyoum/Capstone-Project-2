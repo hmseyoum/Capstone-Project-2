{
 "cells": [
  {
   "cell_type": "markdown",
   "metadata": {},
   "source": [
    "# Machine Translation Using PyTorch -- French to English\n",
    "by Hanna Seyoum"
   ]
  },
  {
   "cell_type": "markdown",
   "metadata": {},
   "source": [
    "## II. Milestone Report"
   ]
  },
  {
   "cell_type": "markdown",
   "metadata": {},
   "source": [
    "### 1. Problem Statement\n",
    "There are plenty of machine translators, some with high accuracy, and others with much needed improvement. I want to build a machine translator with high accuracy, starting with english-french translations, to eventually build translators for less popular languages such as Amharic."
   ]
  },
  {
   "cell_type": "markdown",
   "metadata": {},
   "source": [
    "### 2. Data Acquisition and Loading\n",
    "I downloaded the data which is a zip file from manythings.org/anki. I used the module `zipfile` to find the .zip file and extract the .txt file that contained the data. I then opend the file and read it. Since each line contained a sentence pair of english and french text, and additional information, I split the data by linebreaks. And in each line, the english and french phrases were separated by a tab, so I separated them by tab and created a dataframe with two columns."
   ]
  },
  {
   "cell_type": "markdown",
   "metadata": {},
   "source": [
    "### 3. Methodology\n",
    "**Data cleaning:**\n",
    "The sentence pairs were tab-delimited, separated by a tab, so once I loaded the data, I iterated over each row and split it up by tab. This resulted in 178,009 rows with 3 blocks which I saved as a list. First block had the english phrases, second block had french phrases, and third block had information on the phrases. I then changed this list to a dataframe, with the first block as the first column, second block as the second column, and deleted the third block since it was irrelevant to the task at hand.\n",
    "\n",
    "**Data preprocessing:**\n",
    "I first defined a function, `unicode_to_ascii`, to normalize the unicode data. Then defined a function, `preprocess_sentence`, that first applies the unicode_to_ascii function to each row and changes each letter to small cases and strips white spaces. Then function then tokenizes each phrase by replacing all punctuations with spaces except for sentence ending punctuations. It also adds the `<start>` and `<end>` tokens at the begining and ending of each phrase.\n",
    "\n",
    "**Missing values:**  \n",
    "There were no missing values.\n",
    "\n",
    "**Outliers:**  \n",
    "There were no outliers."
   ]
  },
  {
   "cell_type": "markdown",
   "metadata": {},
   "source": [
    "### 4. Initial Findings\n",
    "\n",
    "Phrase Distribution: [phrase-dist](#Phrase-Distribution)  \n",
    "We see that the distribution of number of english words per phrase is nearly normally distributed, while the french distribution is skewed to the right. This tells us that in general, french phrases tend to have more words that english phrases. \n",
    "    \n",
    "Phrase Statistics: [phrase-stat](#Phrase-Statistics)  \n",
    "* 112079 English words in total\n",
    "* 129852 French words in total\n",
    "* Avg number of English words per phrase: 0.7 | standard deviation: -2.2\n",
    "* Avg number of French words per phrase: 1.3 | standard deviation: -1.6\n",
    "* Number of English words per phrase | minimum: 1, maximum: 7\n",
    "* Number of French words per phrase | minimum: 1, maximum: 14\n",
    "\n",
    "Word Distribution: [word-dist](#Word-Distribution)  \n",
    "We see that the distribution of number of characters per word is nearly normally distributed for both english and french.\n",
    "\n",
    "Word Statistics: [word-stat](#Word-Statistics)  \n",
    "* Avg number of English characters per word: 6.2 | standard deviation: 2.1\n",
    "* Avg number of French characters per word: 7.1 | standard deviation: 2.2\n",
    "* Number of English characters per word | minimum: 1, maximum: 15\n",
    "* Number of French characters per word | minimum: 1, maximum: 16"
   ]
  },
  {
   "cell_type": "markdown",
   "metadata": {},
   "source": [
    "### 5. Statistical Analysis - Zipf's Law\n",
    "\n",
    "Zipf's law is one of the most well-known laws in quantiative linguistics.\n",
    "* It's a very simple power law. It relates the rank ($r$) of an ordered list item to the frequency of occurence ($p_{i}$) for this item:  \n",
    "    $p_{i} = \\frac{1}{i_{a}}$ => log$(p_{i})$ = $-a$log$(i)$, with $a \\approx 1$\n",
    "        \n",
    "* It's validity has been observed in a wide range of phenomena, including natural languages, finance, ecological systems, and web statistics.\n",
    "\n",
    "In this section, I calculate word frequencies of both english and french texts, calculate their ranks, and plot their scatterplots with logarithmic scales. Both plots show that the ranks of frequency of words follow the Zipf's law. We have the ranks on the x-axis, and the word frequencies on the y-axis. The least frequent words have the highest ranks, while the most frequent words have the lowest ranks. If the plots were not on a logarithmic scale, we would notice the  significant drop in word frequencies between the first few ranks, and the rank continues to reduce.\n",
    "\n",
    "You can see the plots here: [Zipf Plot](#Zipf's-Plot) "
   ]
  },
  {
   "cell_type": "markdown",
   "metadata": {},
   "source": [
    "### 6. Libraries & Packages\n",
    "**Required packages:**  \n",
    "* Used Anaconda to download necessary packages\n",
    "* Installed Pytorch in addition to the packages automatically installed through anaconda\n",
    "\n",
    "**Required libraries:**\n",
    "* Pandas: for data analysis\n",
    "* NumPy: for working with arrays\n",
    "* Matplotlib: for data visualization\n",
    "* re: for regular expression"
   ]
  },
  {
   "cell_type": "markdown",
   "metadata": {},
   "source": [
    "### 7. Code"
   ]
  },
  {
   "cell_type": "markdown",
   "metadata": {
    "id": "P0yMbQZPsoI9"
   },
   "source": [
    "### Import Libraries"
   ]
  },
  {
   "cell_type": "code",
   "execution_count": 1,
   "metadata": {
    "colab": {
     "base_uri": "https://localhost:8080/"
    },
    "id": "0jV4I7Pisq4h",
    "outputId": "2830dad8-6a5a-435b-88d4-a33cf307528c"
   },
   "outputs": [],
   "source": [
    "import pandas as pd\n",
    "from sklearn.model_selection import train_test_split\n",
    "import numpy as np\n",
    "import unicodedata\n",
    "import re\n",
    "import time\n",
    "\n",
    "import matplotlib\n",
    "import matplotlib.pyplot as plt\n",
    "import seaborn as sns\n",
    "\n",
    "from matplotlib import rcParams\n",
    "sns.set_style(\"whitegrid\")\n",
    "sns.set_context(\"talk\", font_scale=0.7)\n",
    "sns.set_palette(\"Greens_r\")"
   ]
  },
  {
   "cell_type": "markdown",
   "metadata": {
    "id": "KIYu5gpGs9Dv"
   },
   "source": [
    "### Dataset:  Bilingual Sentence pairs\n",
    "Download [manythings.org/anki/fra-eng.zip](http://www.manythings.org/anki/fra-eng.zip)"
   ]
  },
  {
   "cell_type": "code",
   "execution_count": 2,
   "metadata": {},
   "outputs": [],
   "source": [
    "from zipfile import ZipFile\n",
    "with ZipFile('../Capstone-Project-2/data/fra-eng.zip', 'r') as zipobj:\n",
    "   # Get a list of all archived file names from the zip\n",
    "   # filenames = zipobj.namelist()\n",
    "   zipobj.extract('fra.txt')"
   ]
  },
  {
   "cell_type": "code",
   "execution_count": 3,
   "metadata": {
    "id": "1MVyInhDtKBR"
   },
   "outputs": [],
   "source": [
    "lines = open('fra.txt', encoding='UTF-8').read().strip().split('\\n')"
   ]
  },
  {
   "cell_type": "code",
   "execution_count": 4,
   "metadata": {
    "id": "3LmrjWXZtO2h"
   },
   "outputs": [],
   "source": [
    "# sample size (try with smaller sample size to reduce computation)\n",
    "num_examples = 30000 \n",
    "\n",
    "# creates lists containing each pair\n",
    "original_word_pairs = [[w for w in l.split('\\t')] for l in lines[:num_examples]]"
   ]
  },
  {
   "cell_type": "code",
   "execution_count": 5,
   "metadata": {
    "id": "3HzoewY_tSn8"
   },
   "outputs": [],
   "source": [
    "data = pd.DataFrame(original_word_pairs, columns=[\"eng\", \"fr\", \"info\"])\n",
    "data = data.drop(columns=\"info\", axis=1)"
   ]
  },
  {
   "cell_type": "code",
   "execution_count": 6,
   "metadata": {
    "colab": {
     "base_uri": "https://localhost:8080/",
     "height": 204
    },
    "id": "OXJpqDpQtVCN",
    "outputId": "8390f4d6-d1ae-44b4-f72f-1808a9a1831c",
    "scrolled": true
   },
   "outputs": [
    {
     "data": {
      "text/html": [
       "<div>\n",
       "<style scoped>\n",
       "    .dataframe tbody tr th:only-of-type {\n",
       "        vertical-align: middle;\n",
       "    }\n",
       "\n",
       "    .dataframe tbody tr th {\n",
       "        vertical-align: top;\n",
       "    }\n",
       "\n",
       "    .dataframe thead th {\n",
       "        text-align: right;\n",
       "    }\n",
       "</style>\n",
       "<table border=\"1\" class=\"dataframe\">\n",
       "  <thead>\n",
       "    <tr style=\"text-align: right;\">\n",
       "      <th></th>\n",
       "      <th>eng</th>\n",
       "      <th>fr</th>\n",
       "    </tr>\n",
       "  </thead>\n",
       "  <tbody>\n",
       "    <tr>\n",
       "      <th>0</th>\n",
       "      <td>Go.</td>\n",
       "      <td>Va !</td>\n",
       "    </tr>\n",
       "    <tr>\n",
       "      <th>1</th>\n",
       "      <td>Hi.</td>\n",
       "      <td>Salut !</td>\n",
       "    </tr>\n",
       "    <tr>\n",
       "      <th>2</th>\n",
       "      <td>Hi.</td>\n",
       "      <td>Salut.</td>\n",
       "    </tr>\n",
       "    <tr>\n",
       "      <th>3</th>\n",
       "      <td>Run!</td>\n",
       "      <td>Cours !</td>\n",
       "    </tr>\n",
       "    <tr>\n",
       "      <th>4</th>\n",
       "      <td>Run!</td>\n",
       "      <td>Courez !</td>\n",
       "    </tr>\n",
       "  </tbody>\n",
       "</table>\n",
       "</div>"
      ],
      "text/plain": [
       "    eng        fr\n",
       "0   Go.      Va !\n",
       "1   Hi.   Salut !\n",
       "2   Hi.    Salut.\n",
       "3  Run!   Cours !\n",
       "4  Run!  Courez !"
      ]
     },
     "execution_count": 6,
     "metadata": {},
     "output_type": "execute_result"
    }
   ],
   "source": [
    "data.head(5)"
   ]
  },
  {
   "cell_type": "code",
   "execution_count": 7,
   "metadata": {
    "id": "evVoWThqtZ_p"
   },
   "outputs": [],
   "source": [
    "# Converts the unicode file to ascii\n",
    "def unicode_to_ascii(s):\n",
    "    \"\"\"\n",
    "    Normalizes latin chars with accent to their canonical decomposition\n",
    "    \"\"\"\n",
    "    return ''.join(c for c in unicodedata.normalize('NFD', s)\n",
    "        if unicodedata.category(c) != 'Mn')\n",
    "\n",
    "def preprocess_sentence(w):\n",
    "    \"\"\"\n",
    "    tokenize a phrase by replacing all punctuations with spaces except for sentence ending punctuations.\n",
    "    also adds the <start> and <end> token\n",
    "    \"\"\"\n",
    "    w = unicode_to_ascii(w.lower().strip())\n",
    "    \n",
    "    # creating a space between a word and the punctuation following it\n",
    "    # eg: \"he is a boy.\" => \"he is a boy .\" \n",
    "    # Reference:- https://stackoverflow.com/questions/3645931/python-padding-punctuation-with-white-spaces-keeping-punctuation\n",
    "    w = re.sub(r\"([?.!,¿])\", r\" \\1 \", w)\n",
    "    w = re.sub(r'[\" \"]+', \" \", w)\n",
    "    \n",
    "    # replacing everything with space except (a-z, A-Z, \".\", \"?\", \"!\", \",\")\n",
    "    w = re.sub(r\"[^a-zA-Z?.!,¿]+\", \" \", w)\n",
    "    \n",
    "    w = w.rstrip().strip()\n",
    "    \n",
    "    # adding a start and an end token to the sentence\n",
    "    # so that the model know when to start and stop predicting.\n",
    "    w = '<start> ' + w + ' <end>'\n",
    "    return w"
   ]
  },
  {
   "cell_type": "markdown",
   "metadata": {},
   "source": [
    "### Building Vocabulary Index"
   ]
  },
  {
   "cell_type": "code",
   "execution_count": 8,
   "metadata": {},
   "outputs": [],
   "source": [
    "# This class creates a word -> index mapping (e.g,. \"dad\" -> 5) and vice-versa \n",
    "# (e.g., 5 -> \"dad\") for each language,\n",
    "class LanguageIndex():\n",
    "    def __init__(self, lang):\n",
    "        \"\"\" lang are the list of phrases from each language\"\"\"\n",
    "        self.lang = lang\n",
    "        self.word2idx = {}\n",
    "        self.idx2word = {}\n",
    "        self.vocab = set()\n",
    "        \n",
    "        self.create_index()\n",
    "        \n",
    "    def create_index(self):\n",
    "        for phrase in self.lang:\n",
    "            # update with individual tokens\n",
    "            self.vocab.update(phrase.split(' '))\n",
    "            \n",
    "        # sort the vocab\n",
    "        self.vocab = sorted(self.vocab)\n",
    "\n",
    "        # add a padding token with index 0\n",
    "        self.word2idx['<pad>'] = 0\n",
    "        \n",
    "        # word to index mapping\n",
    "        for index, word in enumerate(self.vocab):\n",
    "            self.word2idx[word] = index + 1 # +1 because of pad token\n",
    "        \n",
    "        # index to word mapping\n",
    "        for word, index in self.word2idx.items():\n",
    "            self.idx2word[index] = word        "
   ]
  },
  {
   "cell_type": "markdown",
   "metadata": {
    "id": "ulYQCfcatcup"
   },
   "source": [
    "### Data Exploration & Visualization"
   ]
  },
  {
   "cell_type": "code",
   "execution_count": 9,
   "metadata": {},
   "outputs": [
    {
     "data": {
      "text/plain": [
       "eng    0\n",
       "fr     0\n",
       "dtype: int64"
      ]
     },
     "execution_count": 9,
     "metadata": {},
     "output_type": "execute_result"
    }
   ],
   "source": [
    "# checking for missing values\n",
    "data.isna().sum()"
   ]
  },
  {
   "cell_type": "code",
   "execution_count": 10,
   "metadata": {
    "colab": {
     "base_uri": "https://localhost:8080/",
     "height": 359
    },
    "id": "U-DVWfcJtZ4m",
    "outputId": "ecd23a77-7d77-4f95-d446-8be64861f435",
    "scrolled": false
   },
   "outputs": [
    {
     "data": {
      "text/html": [
       "<div>\n",
       "<style scoped>\n",
       "    .dataframe tbody tr th:only-of-type {\n",
       "        vertical-align: middle;\n",
       "    }\n",
       "\n",
       "    .dataframe tbody tr th {\n",
       "        vertical-align: top;\n",
       "    }\n",
       "\n",
       "    .dataframe thead th {\n",
       "        text-align: right;\n",
       "    }\n",
       "</style>\n",
       "<table border=\"1\" class=\"dataframe\">\n",
       "  <thead>\n",
       "    <tr style=\"text-align: right;\">\n",
       "      <th></th>\n",
       "      <th>eng</th>\n",
       "      <th>fr</th>\n",
       "    </tr>\n",
       "  </thead>\n",
       "  <tbody>\n",
       "    <tr>\n",
       "      <th>13463</th>\n",
       "      <td>&lt;start&gt; you re demented . &lt;end&gt;</td>\n",
       "      <td>&lt;start&gt; tu es fou . &lt;end&gt;</td>\n",
       "    </tr>\n",
       "    <tr>\n",
       "      <th>16341</th>\n",
       "      <td>&lt;start&gt; stay out of this . &lt;end&gt;</td>\n",
       "      <td>&lt;start&gt; restez en dehors de ca ! &lt;end&gt;</td>\n",
       "    </tr>\n",
       "    <tr>\n",
       "      <th>4349</th>\n",
       "      <td>&lt;start&gt; someone came . &lt;end&gt;</td>\n",
       "      <td>&lt;start&gt; quelqu un est venu . &lt;end&gt;</td>\n",
       "    </tr>\n",
       "    <tr>\n",
       "      <th>4098</th>\n",
       "      <td>&lt;start&gt; is it an elk ? &lt;end&gt;</td>\n",
       "      <td>&lt;start&gt; est ce un elan ? &lt;end&gt;</td>\n",
       "    </tr>\n",
       "    <tr>\n",
       "      <th>20170</th>\n",
       "      <td>&lt;start&gt; is the water deep ? &lt;end&gt;</td>\n",
       "      <td>&lt;start&gt; l eau est elle profonde ? &lt;end&gt;</td>\n",
       "    </tr>\n",
       "    <tr>\n",
       "      <th>11713</th>\n",
       "      <td>&lt;start&gt; i m very hungry . &lt;end&gt;</td>\n",
       "      <td>&lt;start&gt; j ai les crocs . &lt;end&gt;</td>\n",
       "    </tr>\n",
       "    <tr>\n",
       "      <th>15721</th>\n",
       "      <td>&lt;start&gt; it may rain soon . &lt;end&gt;</td>\n",
       "      <td>&lt;start&gt; il devrait pleuvoir bientot . &lt;end&gt;</td>\n",
       "    </tr>\n",
       "    <tr>\n",
       "      <th>9863</th>\n",
       "      <td>&lt;start&gt; you were great . &lt;end&gt;</td>\n",
       "      <td>&lt;start&gt; tu as ete super . &lt;end&gt;</td>\n",
       "    </tr>\n",
       "    <tr>\n",
       "      <th>4899</th>\n",
       "      <td>&lt;start&gt; are they busy ? &lt;end&gt;</td>\n",
       "      <td>&lt;start&gt; sont ils occupees ? &lt;end&gt;</td>\n",
       "    </tr>\n",
       "    <tr>\n",
       "      <th>8044</th>\n",
       "      <td>&lt;start&gt; i have an idea . &lt;end&gt;</td>\n",
       "      <td>&lt;start&gt; j ai une idee . &lt;end&gt;</td>\n",
       "    </tr>\n",
       "  </tbody>\n",
       "</table>\n",
       "</div>"
      ],
      "text/plain": [
       "                                     eng  \\\n",
       "13463    <start> you re demented . <end>   \n",
       "16341   <start> stay out of this . <end>   \n",
       "4349        <start> someone came . <end>   \n",
       "4098        <start> is it an elk ? <end>   \n",
       "20170  <start> is the water deep ? <end>   \n",
       "11713    <start> i m very hungry . <end>   \n",
       "15721   <start> it may rain soon . <end>   \n",
       "9863      <start> you were great . <end>   \n",
       "4899       <start> are they busy ? <end>   \n",
       "8044      <start> i have an idea . <end>   \n",
       "\n",
       "                                                fr  \n",
       "13463                    <start> tu es fou . <end>  \n",
       "16341       <start> restez en dehors de ca ! <end>  \n",
       "4349            <start> quelqu un est venu . <end>  \n",
       "4098                <start> est ce un elan ? <end>  \n",
       "20170      <start> l eau est elle profonde ? <end>  \n",
       "11713               <start> j ai les crocs . <end>  \n",
       "15721  <start> il devrait pleuvoir bientot . <end>  \n",
       "9863               <start> tu as ete super . <end>  \n",
       "4899             <start> sont ils occupees ? <end>  \n",
       "8044                 <start> j ai une idee . <end>  "
      ]
     },
     "execution_count": 10,
     "metadata": {},
     "output_type": "execute_result"
    }
   ],
   "source": [
    "# Now we do the preprocessing using pandas and lambdas\n",
    "data[\"eng\"] = data.eng.apply(lambda w: preprocess_sentence(w))\n",
    "data[\"fr\"] = data.fr.apply(lambda w: preprocess_sentence(w))\n",
    "data.sample(10)"
   ]
  },
  {
   "cell_type": "code",
   "execution_count": 11,
   "metadata": {},
   "outputs": [],
   "source": [
    "# index language using the class above\n",
    "inp_lang = LanguageIndex(data[\"fr\"].values.tolist())\n",
    "targ_lang = LanguageIndex(data[\"eng\"].values.tolist())"
   ]
  },
  {
   "cell_type": "markdown",
   "metadata": {},
   "source": [
    "#### Phrase Statistics"
   ]
  },
  {
   "cell_type": "code",
   "execution_count": 12,
   "metadata": {
    "scrolled": true
   },
   "outputs": [
    {
     "name": "stdout",
     "output_type": "stream",
     "text": [
      "phrase statistics:\n",
      "\n",
      "112079 English words in total\n",
      "129852 French words in total\n",
      "Avg number of English words per phrase: 0.7 | standard deviation: -2.2\n",
      "Avg number of French words per phrase: 1.3 | standard deviation: -1.6\n",
      "Number of English words per phrase | minimum: 1, maximum: 7\n",
      "Number of French words per phrase | minimum: 1, maximum: 14\n"
     ]
    }
   ],
   "source": [
    "# phrase stats\n",
    "data_stats = data.copy()\n",
    "\n",
    "def word_count(phrase):\n",
    "    return len(phrase.split())-3\n",
    "\n",
    "data_stats['eng_word_count'] = data_stats[\"eng\"].apply(lambda x: word_count(x))\n",
    "data_stats['fr_word_count'] = data_stats[\"fr\"].apply(lambda x: word_count(x))\n",
    "\n",
    "avg_eng_words_per_phrase = round(np.mean(data_stats['eng_word_count'])-3, 1)\n",
    "avg_fr_words_per_phrase = round(np.mean(data_stats['fr_word_count'])-3, 1)\n",
    "std_eng_words_per_phrase = round(np.std(data_stats['eng_word_count'])-3, 1)\n",
    "std_fr_words_per_phrase = round(np.std(data_stats['fr_word_count'])-3, 1)\n",
    "\n",
    "print(\"phrase statistics:\\n\")\n",
    "print('{} English words in total'.format(data_stats['eng_word_count'].sum()) ) \n",
    "print('{} French words in total'.format(data_stats['fr_word_count'].sum()) )\n",
    "print(\"Avg number of English words per phrase: {} | standard deviation: {}\".format(avg_eng_words_per_phrase, std_eng_words_per_phrase))\n",
    "print(\"Avg number of French words per phrase: {} | standard deviation: {}\".format(avg_fr_words_per_phrase, std_fr_words_per_phrase))\n",
    "print(\"Number of English words per phrase | minimum: {}, maximum: {}\".format(min(data_stats[\"eng_word_count\"]), max(data_stats[\"eng_word_count\"])))\n",
    "print(\"Number of French words per phrase | minimum: {}, maximum: {}\".format(min(data_stats[\"fr_word_count\"]), max(data_stats[\"fr_word_count\"])))"
   ]
  },
  {
   "cell_type": "markdown",
   "metadata": {},
   "source": [
    "#### Phrase Distribution"
   ]
  },
  {
   "cell_type": "code",
   "execution_count": 13,
   "metadata": {},
   "outputs": [
    {
     "data": {
      "image/png": "[encoded data removed]",
      "text/plain": [
       "<Figure size 432x288 with 2 Axes>"
      ]
     },
     "metadata": {},
     "output_type": "display_data"
    }
   ],
   "source": [
    "plt.subplot(1,2,1)\n",
    "plt.hist(data_stats[\"eng_word_count\"], bins=6)\n",
    "plt.xlabel(\"number of English words\")\n",
    "plt.title(\"Distribution of English phrase lengths\")\n",
    "\n",
    "plt.subplot(1,2,2)\n",
    "plt.hist(data_stats[\"fr_word_count\"], bins=6)\n",
    "plt.xlabel(\"number of French words\")\n",
    "plt.title(\"Distribution of French phrase lengths\")\n",
    "\n",
    "plt.tight_layout()\n",
    "plt.show()"
   ]
  },
  {
   "cell_type": "markdown",
   "metadata": {},
   "source": [
    "#### Word Statistics"
   ]
  },
  {
   "cell_type": "code",
   "execution_count": 14,
   "metadata": {},
   "outputs": [
    {
     "name": "stdout",
     "output_type": "stream",
     "text": [
      "word statistics:\n",
      "\n",
      "Avg number of English characters per word: 6.2 | standard deviation: 2.1\n",
      "Avg number of French characters per word: 7.1 | standard deviation: 2.2\n",
      "Number of English characters per word | minimum: 1, maximum: 15\n",
      "Number of French characters per word | minimum: 1, maximum: 16\n"
     ]
    }
   ],
   "source": [
    "# words stats\n",
    "\n",
    "eng_char_lengths = [len(word) for word in list(targ_lang.idx2word.values())]\n",
    "fr_char_lengths = [len(word) for word in list(inp_lang.idx2word.values())]\n",
    "\n",
    "print(\"word statistics:\\n\")\n",
    "print(\"Avg number of English characters per word: {} | standard deviation: {}\".format(round(np.mean(eng_char_lengths), 1), round(np.std(eng_char_lengths), 1)))\n",
    "print(\"Avg number of French characters per word: {} | standard deviation: {}\".format(round(np.mean(fr_char_lengths), 1), round(np.std(fr_char_lengths), 1)))\n",
    "print(\"Number of English characters per word | minimum: {}, maximum: {}\".format(min(eng_char_lengths), max(eng_char_lengths)))\n",
    "print(\"Number of French characters per word | minimum: {}, maximum: {}\".format(min(fr_char_lengths), max(fr_char_lengths)))"
   ]
  },
  {
   "cell_type": "markdown",
   "metadata": {},
   "source": [
    "#### Word Distribution"
   ]
  },
  {
   "cell_type": "code",
   "execution_count": 15,
   "metadata": {},
   "outputs": [
    {
     "data": {
      "image/png": "[encoded data removed]",
      "text/plain": [
       "<Figure size 432x288 with 2 Axes>"
      ]
     },
     "metadata": {},
     "output_type": "display_data"
    }
   ],
   "source": [
    "plt.subplot(1,2,1)\n",
    "plt.hist(eng_char_lengths, bins=7)\n",
    "plt.xlabel(\"length of English words\")\n",
    "plt.title(\"Distribution of English word lengths\")\n",
    "\n",
    "plt.subplot(1,2,2)\n",
    "plt.hist(fr_char_lengths, bins=7)\n",
    "plt.xlabel(\"length of French words\")\n",
    "plt.title(\"Distribution of French word lengths\")\n",
    "plt.tight_layout()\n",
    "plt.show()"
   ]
  },
  {
   "cell_type": "code",
   "execution_count": 16,
   "metadata": {},
   "outputs": [],
   "source": [
    "# Export English and French columns as .txt files\n",
    "\n",
    "df_english = data[\"eng\"].astype('|S')\n",
    "df_french = data[\"fr\"].astype('|S')"
   ]
  },
  {
   "cell_type": "code",
   "execution_count": 17,
   "metadata": {},
   "outputs": [],
   "source": [
    "# inside the open parenthesis, insert a path for where you want the .txt files to be stored. \n",
    "\n",
    "with open('../Capstone-Project-2/data/english.txt', 'a') as f:\n",
    "    f.write(df_english.to_string(header=False, index=False))\n",
    "    \n",
    "with open('../Capstone-Project-2/data/french.txt', 'a') as f:\n",
    "    f.write(df_french.to_string(header=False, index=False))"
   ]
  },
  {
   "cell_type": "code",
   "execution_count": 18,
   "metadata": {},
   "outputs": [],
   "source": [
    "# open the files saved in the previous cell\n",
    "open_file = open('../Capstone-Project-2/data/english.txt', 'r')\n",
    "eng_file_to_string = open_file.read()\n",
    "eng_words = re.findall(r'(\\b[A-Za-z][a-z]{2,9}\\b)', eng_file_to_string)\n",
    "\n",
    "eng_frequency = {}\n",
    "#english -- build dict of words based on frequency\n",
    "for word in eng_words:\n",
    "    count = eng_frequency.get(word,0)\n",
    "    eng_frequency[word] = count + 1\n",
    "\n",
    "#-----------------------------------------------------\n",
    "\n",
    "open_file = open('../Capstone-Project-2/data/french.txt', 'r')\n",
    "fr_file_to_string = open_file.read()\n",
    "fr_words = re.findall(r'(\\b[A-Za-z][a-z]{2,9}\\b)', fr_file_to_string)\n",
    "\n",
    "fr_frequency = {}\n",
    "#french -- build dict of words based on frequency\n",
    "for word in fr_words:\n",
    "    count = fr_frequency.get(word,0)\n",
    "    fr_frequency[word] = count + 1"
   ]
  },
  {
   "cell_type": "markdown",
   "metadata": {},
   "source": [
    "#### Zipf's Plot"
   ]
  },
  {
   "cell_type": "code",
   "execution_count": 19,
   "metadata": {},
   "outputs": [],
   "source": [
    "def dict_to_df(lang_dict):\n",
    "    \"\"\" changing english and french word frequency dictionaries into series',\n",
    "    and converting them to dataframes\"\"\"\n",
    "    \n",
    "    s = pd.Series(lang_dict)\n",
    "    df  = pd.DataFrame()\n",
    "    df['word_frequency'] = s\n",
    "    df = df.sort_values('word_frequency')\n",
    "    return df\n",
    "\n",
    "def zipf_plot(lang_dict):\n",
    "    \"\"\"\n",
    "    change dictonary containig each word as the key and their frequencies as their values into a series.\n",
    "    create a dataframe out of the series, and name the column containing word frequencies word_frquency.\n",
    "    count the number of each value in the word_frequency column.\n",
    "    \n",
    "    \"\"\"\n",
    "    # changing dictonary containig each word as the key and their frequencies as their values into a series, \n",
    "    # then returning as a dataframe\n",
    "    \n",
    "    df = dict_to_df(lang_dict)\n",
    "    \n",
    "    word_frequency_counts = df['word_frequency'].value_counts()\n",
    "    df = pd.DataFrame()\n",
    "    df[\"word_frequency_counts\"] = word_frequency_counts\n",
    "    df[\"rank\"] = range(1, len(df)+1)\n",
    "    df.plot(kind=\"scatter\", x='rank', y='word_frequency_counts', logx=True, logy=True)"
   ]
  },
  {
   "cell_type": "code",
   "execution_count": 20,
   "metadata": {},
   "outputs": [
    {
     "data": {
      "text/plain": [
       "Text(0.5, 1.0, 'Zipf Plot of French Words')"
      ]
     },
     "execution_count": 20,
     "metadata": {},
     "output_type": "execute_result"
    },
    {
     "data": {
      "image/png": "[encoded data removed]",
      "text/plain": [
       "<Figure size 432x288 with 1 Axes>"
      ]
     },
     "metadata": {},
     "output_type": "display_data"
    },
    {
     "data": {
      "image/png": "[encoded data removed]",
      "text/plain": [
       "<Figure size 432x288 with 1 Axes>"
      ]
     },
     "metadata": {},
     "output_type": "display_data"
    }
   ],
   "source": [
    "#codes to remove 'c' argument error the error\n",
    "from matplotlib.axes._axes import _log as matplotlib_axes_logger\n",
    "matplotlib_axes_logger.setLevel('ERROR')\n",
    "\n",
    "zipf_plot(eng_frequency)\n",
    "plt.title(\"Zipf Plot of English Words\")\n",
    "\n",
    "zipf_plot(fr_frequency)\n",
    "plt.title(\"Zipf Plot of French Words\")"
   ]
  }
 ],
 "metadata": {
  "accelerator": "GPU",
  "colab": {
   "collapsed_sections": [],
   "name": "eng_french_translation.ipynb",
   "provenance": []
  },
  "kernelspec": {
   "display_name": "Python 3",
   "language": "python",
   "name": "python3"
  },
  "language_info": {
   "codemirror_mode": {
    "name": "ipython",
    "version": 3
   },
   "file_extension": ".py",
   "mimetype": "text/x-python",
   "name": "python",
   "nbconvert_exporter": "python",
   "pygments_lexer": "ipython3",
   "version": "3.8.5"
  }
 },
 "nbformat": 4,
 "nbformat_minor": 1
}
